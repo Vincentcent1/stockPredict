{
 "cells": [
  {
   "cell_type": "code",
   "execution_count": 111,
   "metadata": {},
   "outputs": [],
   "source": [
    "from bs4 import BeautifulSoup\n",
    "import re\n",
    "from selenium import webdriver"
   ]
  },
  {
   "cell_type": "code",
   "execution_count": 112,
   "metadata": {},
   "outputs": [],
   "source": [
    "# MMDDYYYY\n",
    "start = ['10','10','2016']\n",
    "end = ['11','10','2018']"
   ]
  },
  {
   "cell_type": "code",
   "execution_count": 113,
   "metadata": {},
   "outputs": [],
   "source": [
    "date = 'tbs=cdr%3A1%2Ccd_min%3A'+ start[0] + '%2F' + start[1] +'%2F' + start[2] + '%2Ccd_max%3A' + \\\n",
    "        end[0] + '%2F' + end[1] + '%2F' + end[2]\n",
    "companyTicker = 'AMD'\n",
    "ticker = companyTicker"
   ]
  },
  {
   "cell_type": "code",
   "execution_count": 114,
   "metadata": {},
   "outputs": [],
   "source": [
    "webfilter = \"reuters.com\"\n",
    "website ='https://www.google.com/search?&' + date + '&tbm=nws&q=site:{}+'.format(webfilter) + ticker"
   ]
  },
  {
   "cell_type": "code",
   "execution_count": 115,
   "metadata": {},
   "outputs": [],
   "source": [
    "browser = webdriver.Chrome()\n",
    "browser.get(website)\n",
    "html = browser.page_source\n",
    "# browser.quit()\n",
    "soup = BeautifulSoup(html, 'html.parser')\n",
    "# a = soup.find('section', 'wrapper')"
   ]
  },
  {
   "cell_type": "code",
   "execution_count": 116,
   "metadata": {},
   "outputs": [],
   "source": [
    "websites = []\n",
    "for link in soup.findAll('a', attrs={'href': re.compile(\"(^https://)(?!.*google.com)(?!.*youtube.com)(?!.*blogger.com)\")}):\n",
    "    link_str = link.get('href')\n",
    "    if link_str not in websites:\n",
    "        websites.append(link_str)"
   ]
  },
  {
   "cell_type": "code",
   "execution_count": 117,
   "metadata": {},
   "outputs": [],
   "source": [
    "import requests"
   ]
  },
  {
   "cell_type": "code",
   "execution_count": 217,
   "metadata": {},
   "outputs": [
    {
     "name": "stdout",
     "output_type": "stream",
     "text": [
      "================================\n",
      "Reuters Editorial\n",
      "\n",
      "                AMD chips exposed to both variants of Spectre security flaw | Reuters\n",
      "\n",
      "(Reuters) - Advanced Micro Devices Inc said on Thursday its microprocessors are susceptible to both variants of the Spectre security flaw, days after saying its risk for one of them was “near zero”. In a subsequent statement Thursday, AMD said there was “no change” to its position on the susceptibility of its chips to Spectre, but shares fell as much as 4.0 percent after the first AMD announcement. Last week, security researchers disclosed a set of flaws that could let hackers steal sensitive information from nearly every modern computing device containing chips from Intel Corp, Advanced Micro Devices Inc and ARM Holdings. But investors believed AMD’s chips were at less risk than that of key rival Intel. AMD’s shares have gained nearly 20 percent since the flaws were made public on Jan. 3 as investors speculated that it could wrest market share from Intel, which is most exposed to the flaws because it is vulnerable to all three variants. AMD shares dropped as much as 4 percent to $11.65 in after-hours trading after the company’s announcement Thursday. By late afternoon they had recovered to $11.80, a drop of 2.9 percent. AMD on Jan. 3 also said that its chips were vulnerable to one variant of the Spectre bug, but there was “near zero risk” from the second Spectre variant and vulnerability to the second variant “has not been demonstrated on AMD processors to date.” In Thursday’s statement, however, AMD said the second Spectre variant “is applicable to AMD” processors and that it would issue patches for its Ryzen and EPYC processors starting this week and older chips in the coming weeks. \"While we believe that AMD's processor architectures make it difficult to exploit Variant 2, we continue to work closely with the industry on this threat,\" Chief Technology Officer Mark Papermaster wrote in a blog post on Thursday wrote. (bit.ly/2mlelIr) \n",
      "================================\n",
      "Reuters Editorial\n",
      "\n",
      "                Rivals AMD, Intel partner to take on Nvidia | Reuters\n",
      "\n",
      "(Reuters) - Bitter rivals Advanced Micro Devices Inc and Intel Corp on Monday unveiled a partnership that will help the chipmakers take on Nvidia Corp. Under the partnership, AMD’s semi-custom graphics chip will be integrated into Intel’s new multi-chip processor package for personal computing. AMD’s shares were up 6.5 percent at $11.84 in early trading. Intel was up 1 percent, while Nvidia was down 0.5 percent. Designed by Intel, the new product will integrate an Intel core processor together with a semi-custom radeon graphic chip and second-generation high bandwidth memory (HBM2) into one package, AMD said in a statement. \n",
      "================================\n",
      "Supantha Mukherjee\n",
      "\n",
      "                Intel shares slip on fears of AMD data center chip challenge | Reuters\n",
      "\n",
      "The company’s profit and revenue beat Wall Street targets, but double-digit growth in its data center chip business fell short of analysts’ expectations and disappointed investors. “Intel stock continues to be under pressure as investors are looking past near term outperformance and struggling with the storyline of potential future share loss to AMD,” Barclays analysts said. AMD shares are up 8 percent at $19.88 in early trade. Intel shares were trading down at $47.61. Intel was at the forefront of selling chips used in making servers where data is stored remotely or in so-called cloud servers. Over the past few years as more companies rushed to the cloud to move data online, Intel enjoyed healthy cloud revenue growth. Intel’s Xeon server chips had dominated the market, but started facing competition last year following AMD’s re-entry into the business after a decade with EPYC processors that earned positive reviews. EPYC chips outperformed Xeon in certain tasks and provided better performance-per-dollar than what Intel chips offered, according to tests done by Anandtech after the launch last year. AMD currently has a small share of the server business, but any gain will hamper Intel’s plans to focus on data centers to diversify away from a stagnating PC business, where it is the market leader. Intel has delayed the launch of its next-generation 10nm processors due to production woes, which could erode its market share further. While AMD is already sampling its 7nm processors and will launch them later this year, Intel’s 10nm chips will hit the market next year. “We see the stock as increasingly binary around their ability to hold off AMD in the data center,” Morgan Stanley analysts said of Intel. “We don’t see the stock outperforming if AMD successfully takes 3-4 points of server market share in the next 2 quarters and gets to 10% by the end of next year.” At least four brokerages cut their price targets on Intel stock, while six brokerages had raised their targets on AMD stock after its strong quarterly results earlier this week, mainly due to high demand for server chips. \n",
      "================================\n",
      "Douglas Busvine\n",
      "\n",
      "                Security flaws put virtually all phones, computers at risk | Reuters\n",
      "\n",
      "FRANKFURT/SAN FRANCISCO (Reuters) - Security researchers on Wednesday disclosed a set of security flaws that they said could let hackers steal sensitive information from nearly every modern computing device containing chips from Intel Corp, Advanced Micro Devices Inc and ARM Holdings. One of the bugs is specific to Intel but another affects laptops, desktop computers, smartphones, tablets and internet servers alike. Intel and ARM insisted that the issue was not a design flaw, but it will require users to download a patch and update their operating system to fix. “Phones, PCs, everything are going to have some impact, but it’ll vary from product to product,” Intel CEO Brian Krzanich said in an interview with CNBC Wednesday afternoon. Researchers with Alphabet Inc’s Google Project Zero, in conjunction with academic and industry researchers from several countries, discovered two flaws. The first, called Meltdown, affects Intel chips and lets hackers bypass the hardware barrier between applications run by users and the computer’s memory, potentially letting hackers read a computer’s memory and steal passwords. The second, called Spectre, affects chips from Intel, AMD and ARM and lets hackers potentially trick otherwise error-free applications into giving up secret information. The researchers said Apple Inc and Microsoft Corp had patches ready for users for desktop computers affected by Meltdown. Microsoft declined to comment and Apple did not immediately return requests for comment. Daniel Gruss, one of the researchers at Graz University of Technology who discovered Meltdown, called it “probably one of the worst CPU bugs ever found” in an interview with Reuters. Gruss said Meltdown was the more serious problem in the short term but could be decisively stopped with software patches. Spectre, the broader bug that applies to nearly all computing devices, is harder for hackers to take advantage of but less easily patched and will be a bigger problem in the long term, he said. Speaking on CNBC, Intel’s Krzanich said Google researchers told Intel of the flaws “a while ago” and that Intel had been testing fixes that device makers who use its chips will push out next week. Before the problems became public, Google on its blog said Intel and others planned to disclose the issues on Jan. 9. Google said it informed the affected companies about the “Spectre” flaw on June 1, 2017 and reported the “Meltdown” flaw after the first flaw but before July 28, 2017. The flaws were first reported by tech publication The Register. It also reported that the updates to fix the problems could causes Intel chips to operate 5 percent to 30 percent more slowly. (bit.ly/2CsRxkj) Intel denied that the patches would bog down computers based on Intel chips. “Intel has begun providing software and firmware updates to mitigate these exploits,” Intel said in a statement. “Contrary to some reports, any performance impacts are workload-dependent, and, for the average computer user, should not be significant and will be mitigated over time.” ARM spokesman Phil Hughes said that patches had already been shared with the companies’ partners, which include many smartphone manufacturers. “This method only works if a certain type of malicious code is already running on a device and could at worst result in small pieces of data being accessed from privileged memory,” Hughes said in an email. AMD chips are also affected by at least one variant of a set of security flaws but that it can be patched with a software update. The company said it believes there “is near zero risk to AMD products at this time.” Google said in a blog post that Android phones running the latest security updates are protected, as are its own Nexus and Pixel phones with the latest security updates. Gmail users do not need to take any additional action to protect themselves, but users of its Chromebooks, Chrome web browser and many of its Google Cloud services will need to install updates. Amazon Web Services, a cloud computing service used by businesses, said that most of its internet servers were already patched and the rest were in the process of being patched. The defect affects the so-called kernel memory on Intel x86 processor chips manufactured over the past decade, The Register reported citing unnamed programmers, allowing users of normal applications to discern the layout or content of protected areas on the chips. That could make it possible for hackers to exploit other security bugs or, worse, expose secure information such as passwords, thus compromising individual computers or even entire server networks. Dan Guido, chief executive of cyber security consulting firm Trail of Bits, said that businesses should quickly move to update vulnerable systems, saying he expects hackers to quickly develop code they can use to launch attacks that exploit the vulnerabilities. “Exploits for these bugs will be added to hacker’s standard toolkits,” said Guido. Shares in Intel were down by 3.4 percent following the report but nudged back up 1.2 percent to $44.70 in after-hours trading while shares in AMD were up 1 percent to $11.77, shedding many of the gains they had made earlier in the day when reports suggested its chips were not affected. It was not immediately clear whether Intel would face any significant financial liability arising from the reported flaw. “The current Intel problem, if true, would likely not require CPU replacement in our opinion. However the situation is fluid,” Hans Mosesmann of Rosenblatt Securities in New York said in a note, adding it could hurt the company’s reputation. \n",
      "================================\n",
      "Sinéad Carew\n",
      "\n",
      "                AMD needs perfection to justify share price rally: analysts | Reuters\n",
      "\n",
      "Eleven analysts recommend buying AMD’s stock, while four advise selling and 16 have neutral ratings, according to data from Refinitiv. After ending 2017 at just $10.38, AMD shares last month reached $34.14, their highest since May 2006. That was impressive for a company that in 2015 some analysts viewed as a bankruptcy risk due to falling demand for personal computers. A 5 percent drop in the chipmaker’s shares on Friday hinted at how vulnerable the stock may be. Investors have been betting that AMD can win over new clients with competitive chip offerings while arch-rival Intel wrestles with supply problems and delays in developing its next-generation chip manufacturing process. AMD has a lot of room to expand its low single-digit percentage share of the server market. But some analysts say it will take longer than investors realize to build share in the server market. “We’d agree with AMD bulls that it’s done a much better job of executing on its product road map but executing on products and gaining market share are different things,” said Ruben Roy, analyst for MKM Partners, which has a “hold” rating on AMD stock and a $20 price target. “With valuations reflecting the best possible scenario, we think that there could be better opportunities coming up if there are hiccups,” said Roy. He sees AMD increasing its share of the server market to about 8 percent from in 2019 from 3 percent. AMD has said it expects to end 2018 with mid-single digit server market share and to be on a path toward a double-digit share. Wall Street analysts expect earnings per share of 47 cents for 2018 and 67 cents for 2019 on revenue growth of 25.7 percent in 2018 and 9.6 percent in 2019 according to Refinitiv. On top of delays to its 10 nanometer manufacturing technology, which would allow it to make smaller chips, Intel has suffered from leadership uncertainty as it seeks a new chief executive after Brian Krzanich resigned in June. “To their credit, AMD has taken total control of the narrative from Intel. Maybe they did too good a job,” said Rasgon. \n",
      "================================\n"
     ]
    },
    {
     "name": "stdout",
     "output_type": "stream",
     "text": [
      "Supantha Mukherjee\n",
      "\n",
      "                AMD, Nvidia blockchain prospects excite investors | Reuters\n",
      "\n",
      "Blockchain is the technology behind bitcoin and ethereum, and cryptocurrency miners use fast graphic processing units (GPUs) to solve complex mathematical problems and get new digital currencies as a reward. Investors are excited about the future. AMD shares were up about 6 percent on Wednesday, while Nvidia’s stock rose 3 percent to a record. Bitcoin, the most popular cryptocurrency, soared more than 1,300 percent in 2017, luring more people across the world to mine the currency, pushing up demand for GPUs. In the past, AMD and Nvidia tried to tame expectations about potential revenue growth from cryptocurrency, but analysts see the floodgates opening for blockchain. “We see the bigger category of blockchain as a sustainable market for GPUs and eventually an application specific chip (ASIC) for blockchain applications,” Stifel analyst Kevin Cassidy said. “We see a potential for both AMD and Nvidia to benefit from at least supplying the intellectual property for the ASIC.” Though blockchain is best known as the system underpinning bitcoin, it is increasingly being used by industries to increase security or create efficiencies in business, such as the move by De Beers to use the technology to verify the authenticity of diamonds. “While some will argue upside from crypto should be discounted, we see blockchain as more sustainable than most,” Credit Suisse analyst John Pitzer said. Pitzer estimated that AMD sold about $320 million in chips to blockchain companies in 2017, but it was a fraction of AMD’s full-year revenue of over $5 billion. While blockchain was a fluid and dynamic market, AMD saw strength in December and going into the first quarter, AMD Chief Executive Lisa Su said on a post-earnings call on Tuesday. AMD’s bigger rival Nvidia, which reported more than $100 million in quarterly revenue from blockchain in October, will release fourth-quarter results on Feb. 8. \n",
      "================================\n",
      "Reuters Editorial\n",
      "\n",
      "                AMD's revenue rises 18.3 percent, but margin forecast disappoints | Reuters\n",
      "\n",
      "The company’s shares, which had gained more than 20 percent this year, were down 10.2 percent at $12.23 in after-market trading on Monday. AMD said it expected adjusted gross margins to be about 33 percent in the current quarter, compared with 34 percent in the first quarter. “Semiconductor companies, and, particularly, one that’s trying to turn around and become profitable, trades on gross margin and I think there’s concern,” Stifel analyst Kevin Cassidy said. “I think that’s the hang up - that these new products should be ramping production and they’re not as profitable as the Street was expecting.” AMD launched a few of its Ryzen range of desktop processors in the first quarter and plans to unveil its Naples chips targeting the server market in the second quarter. The Ryzen chips helped boost the company’s revenue in the first quarter ended April 1. “All of the feedback that we’ve gotten so far from both our customers and from end-users has been very strong,” Chief Executive Officer Lisa Su said during an earnings call, responding to a question on the launch. However, total revenue was weighed down by its business that mainly supplies graphics cards used in gaming consoles such as the Xbox One and the PlayStation 4. Revenue in the business rose 5 percent to $391 million, but came in below analysts’ average estimate of $442.1 million, according to financial data and analytics firm FactSet. AMD also forecast low double-digit percentage revenue growth for the full year. Revenue rose to $984 million in the first quarter, from $832 million a year earlier. AMD’s net loss narrowed to $73 million, or 8 cents per share, from $109 million, or 14 cents per share. Excluding items, the company lost 4 cents per share, in line with analysts’ average estimate. AMD's shares, which joined the broader S&P 500 index .SPX in March, had risen more than four-fold last year. \n",
      "================================\n",
      "Jim Finkle\n",
      "\n",
      "                After short-selling surge, Israeli firm says it finds AMD chip flaw | Reuters\n",
      "\n",
      "(Reuters) - An Israeli cyber security research firm with six employees on Tuesday said it had found flaws in Advanced Micro Devices microprocessors that made them vulnerable to hacks. AMD said it was investigating the claims, which were followed by heavy trade in AMD shares. The stock closed up 1 percent to $11.64 after a day of volatile trade. AMD traded between $11.10 and $12.04 following release of the report from Tel Aviv-based CTS Labs. CTS executives told Reuters that they had shared their findings with some clients who pay the firm for proprietary research on vulnerabilities in computer hardware. They declined to identify their clients or say when they had provided them with data on the vulnerability. “I can’t really talk about my clients,” said Yaron Luk-Zilberman, chief financial officer at the firm that was founded in January 2017. Short-seller Viceroy Research published a 25-page report on the vulnerabilities on Tuesday, betting its shares will fall. AMD said that the report took it by surprise. “This company was previously unknown to AMD and we find it unusual for a security firm to publish its research to the press without providing a reasonable amount of time for the company to investigate and address its findings,” AMD said in a note to customers on its website. Viceroy founder Fraser Perring told Reuters that somebody anonymously emailed him a draft of the report at about 4 p.m. on Monday. The firm spent much of the evening analyzing the situation and ended up taking a “sizeable” short position in AMD, he said. There has been increased investor interest in AMD since the beginning of the month, with options drawing large trades that appeared to be betting on increased near-term gyrations in the shares.    Puts, options contracts that protect against a drop in the share price, were particularly active. Last week, the cumulative number of open put contracts outnumbered open calls 1.5-to-1, the most defensive this measure has been in more than two years, according to options analytics firm Trade Alert data. That measure declined slightly by Tuesday.    On Friday and Monday, short selling of AMD’s stock increased by about 15 million shares, according to S3 Partners, a financial analytics firm. That brought overall short interest in the chipmaker to about 180 million shares, the most since at least 2010. “Over the last several days there was a spike in short selling that was completely out of the norm,” said Ihor Dusaniwsky, S3 Partners’ head of research. New York-based cyber security firm Trail of Bits told Reuters that it had verified the findings from CTS, which paid $16,000 for a review of the AMD vulnerabilities. A Trail of Bits analyst spent a week reviewing detailed technical reports from CTS, along with “proof of concept” code that could be used to launch attacks on computers running vulnerable AMD chips, Trail of Bits Chief Executive Dan Guido told Reuters. “These are real security issues in AMD code and processors” that hackers could exploit to manipulate or steal secure data, he said. For the attacks to work, an attacker must first obtain administrator access to a targeted network, Guido said. \n",
      "================================\n",
      "Reuters Editorial\n",
      "\n",
      "                Tesla working with AMD to develop chip for self-driving car: CNBC | Reuters\n",
      "\n",
      "AMD spin-off GlobalFoundries Inc Chief Executive Sanjay Jha said his company is working directly with Tesla, according to the CNBC report. (cnb.cx/2fBgrkQ) GlobalFoundries, which fabricates chips, has a wafer supply agreement in place with AMD. Tesla isn’t completely going it alone in chip development, according to the source, and will build on top of AMD intellectual property, CNBC reported. More than 50 people are working on the project under Jim Keller, a longtime chip architect and the head of Autopilot hardware and software of Tesla, according to the report. AMD shares were up 2.2 percent in extended trading. Tesla, AMD, and GlobalFoundries did not immediately respond to requests for comment. \n",
      "================================\n"
     ]
    },
    {
     "name": "stdout",
     "output_type": "stream",
     "text": [
      "Muvija M\n",
      "\n",
      "                AMD profit gets boost from chips for crypto mining, gaming | Reuters\n",
      "\n",
      "(Reuters) - Advanced Micro Devices Inc’s quarterly profit and revenue topped Wall Street targets as the chipmaker benefited from higher prices and demand for graphics chips used in personal computers, gaming consoles and cryptocurrency mining. The chipmaker’s forecast for current-quarter revenue also exceeded expectations, and AMD’s shares jumped more than 9 percent in after-hours trading on Wednesday. The stock has climbed over 250 percent in the past two years as the Santa Clara, California-based company benefits from demand for graphics chips used in computers, videogame consoles and for a variety of other applications. To tap rising demand for chips from data centers, AMD has also developed newer editions of server processors. Demand for AMD’s Radeon series of graphics products remained strong in the first three months of the year as new high-quality videogames were released, Chief Executive Lisa Su said on a call with analysts. “Our financial progress in the first quarter is attributable to the ongoing strength of Radeon and Ryzen products as well as continued early contributions from our EPYC products,” Chief Financial Officer Devinder Kumar said, referring to AMD’s EPYC line of server products and Ryzen PC processors. AMD has also continued to benefit from last year’s boom in cryptocurrencies, as graphics chips provide the high computing ability required for mining popular virtual currencies such as bitcoin and ethereum. Cryptocurrency mining accounted for some 10 percent of AMD’s overall revenue in the first quarter, Kumar said. Still, gaming would continue to be a “top priority” for the company, Su said. AMD reported a net income of $81 million in the three months ended March 31, compared with a net loss of $33 million a year earlier. Excluding one-time items, AMD earned 11 cents per share, ahead of analysts’ average estimate of 9 cents, according to Thomson Reuters I/B/E/S. Revenue jumped 40 percent to $1.65 billion, topping expectations of $1.57 billion as sales at its key computing and graphics business nearly doubled. AMD expects current-quarter revenue of $1.73 billion, give or take $50 million, while analysts were expecting revenue of $1.57 billion. \n"
     ]
    }
   ],
   "source": [
    "sitecount = 1\n",
    "for site in websites:\n",
    "    print(\"================================\")\n",
    "    sitetext = ''\n",
    "    r = requests.get(site)\n",
    "    websoup = BeautifulSoup(r.text)\n",
    "\n",
    "    author_box = websoup.find(\"meta\",attrs = {'name':'Author'}, content=True)\n",
    "    print(author_box['content'])\n",
    "    print(\"{}\".format(websoup.title.string))\n",
    "    print()\n",
    "\n",
    "    if author_box:\n",
    "        for e in author_box:\n",
    "            print(e)\n",
    "            if e:\n",
    "                print(\"Author: {}\".format(e.string.strip()))\n",
    "                print()\n",
    "            else:\n",
    "                print(\"Author: {}\".format(\"None\"))\n",
    "                print() \n",
    "    else:\n",
    "        print(\"Author: {}\".format(\"None\"))\n",
    "        print()\n",
    "        \n",
    "    extractedweb = websoup.findAll('p')\n",
    "    for p in extractedweb:\n",
    "        if(p.find(text=True)):\n",
    "            #print(p.attrs)\n",
    "            if p.em:\n",
    "                continue\n",
    "            if p.attrs == {'class': ['BylineBar_reading-time'], 'style': 'color:undefined'}:\n",
    "                continue\n",
    "            if p.attrs == {'class': ['Attribution_content']}:\n",
    "                continue\n",
    "            if p.attrs == {'div':['Attribution_container']}:\n",
    "                continue\n",
    "            if p.span:\n",
    "                continue\n",
    "            elif (p.attrs=={'a'}):\n",
    "                continue\n",
    "            else:\n",
    "                sitetext += p.text.strip() + \" \"\n",
    "    print(sitetext)"
   ]
  },
  {
   "cell_type": "code",
   "execution_count": null,
   "metadata": {},
   "outputs": [],
   "source": []
  }
 ],
 "metadata": {
  "kernelspec": {
   "display_name": "Python 3",
   "language": "python",
   "name": "python3"
  },
  "language_info": {
   "codemirror_mode": {
    "name": "ipython",
    "version": 3
   },
   "file_extension": ".py",
   "mimetype": "text/x-python",
   "name": "python",
   "nbconvert_exporter": "python",
   "pygments_lexer": "ipython3",
   "version": "3.7.0"
  }
 },
 "nbformat": 4,
 "nbformat_minor": 2
}
