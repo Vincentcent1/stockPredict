{
 "cells": [
  {
   "cell_type": "code",
   "execution_count": 1,
   "metadata": {},
   "outputs": [],
   "source": [
    "from bs4 import BeautifulSoup\n",
    "import re\n",
    "from selenium import webdriver"
   ]
  },
  {
   "cell_type": "code",
   "execution_count": 2,
   "metadata": {},
   "outputs": [],
   "source": [
    "# MMDDYYYY\n",
    "start = ['10','10','2016']\n",
    "end = ['11','10','2016']"
   ]
  },
  {
   "cell_type": "code",
   "execution_count": 3,
   "metadata": {},
   "outputs": [],
   "source": [
    "date = 'tbs=cdr%3A1%2Ccd_min%3A'+ start[0] + '%2F' + start[1] +'%2F' + start[2] + '%2Ccd_max%3A' + \\\n",
    "        end[0] + '%2F' + end[1] + '%2F' + end[2]\n",
    "ticker = 'GOOGL'"
   ]
  },
  {
   "cell_type": "code",
   "execution_count": 46,
   "metadata": {},
   "outputs": [],
   "source": [
    "webfilter = \"fool.com\"\n",
    "website ='https://www.google.com/search?&' + date + '&tbm=nws&q=site:{}+'.format(webfilter) + ticker"
   ]
  },
  {
   "cell_type": "code",
   "execution_count": 47,
   "metadata": {},
   "outputs": [],
   "source": [
    "browser = webdriver.Chrome()\n",
    "browser.get(website)\n",
    "html = browser.page_source\n",
    "# browser.quit()\n",
    "soup = BeautifulSoup(html, 'html.parser')\n",
    "# a = soup.find('section', 'wrapper')"
   ]
  },
  {
   "cell_type": "code",
   "execution_count": 48,
   "metadata": {},
   "outputs": [],
   "source": [
    "websites = []\n",
    "for link in soup.findAll('a', attrs={'href': re.compile(\"(^https://)(?!.*google.com)(?!.*youtube.com)(?!.*blogger.com)\")}):\n",
    "    link_str = link.get('href')\n",
    "    if link_str not in websites:\n",
    "        websites.append(link_str)\n",
    "# for i in websites:\n",
    "#     print(i)"
   ]
  },
  {
   "cell_type": "code",
   "execution_count": 49,
   "metadata": {},
   "outputs": [],
   "source": [
    "import requests"
   ]
  },
  {
   "cell_type": "code",
   "execution_count": 50,
   "metadata": {},
   "outputs": [
    {
     "name": "stdout",
     "output_type": "stream",
     "text": [
      "================================\n",
      "\n",
      "      \n",
      "    Don't Be Fooled: Google Is Still Tremendously Profitable -- The Motley Fool\n",
      "\n",
      "  \n",
      "\n",
      "Author: Andrés Cardenal\n",
      "\n",
      "Founded in 1993 by brothers Tom and David Gardner, The Motley Fool helps millions of people attain financial freedom through our website, podcasts, books, newspaper column, radio show, and premium investing services. Alphabet's (NASDAQ:GOOG) (NASDAQ:GOOGL) operating profit margin has been moving in the wrong direction over the past several years, a potential cause for concern among investors in the company. Make no mistake, though: Google is as profitable as ever, and the overall profitability picture for Alphabet still looks pretty good. The company formerly known as Google changed its name and corporate structure last year. Alphabet is a combination of two main segments: Google and \"other bets.\" Google doesn't need much introduction, as the online advertising juggernaut features tremendously popular services and applications such as Google Search, Android, and YouTube, among many others. The other-bets division is more obscure, including a collection of projects and businesses in highly innovative areas such as self-driving cars, Nest, Fiber, Calico, and Verily. When looking at Alphabet as a whole, profitability levels remain high, but they're under pressure. The following chart illustrates the decline in the company's operating margin over the past five years, and the trend doesn't look particularly encouraging. GOOG Operating Margin (TTM) data by YCharts It's interesting to note that GAAP and non-GAAP operating margin, which excludes stock-based compensation expenses, are notoriously different for Alphabet. During the the third quarter of 2016, the company produced a GAAP operating margin around 26% of revenue, while non-GAAP operating margin was a much higher 34%. Stock-based compensation is a crucial metric that needs to be included in profitability analysis. On the other hand, it's a non-cash expense item, and it fluctuates considerably from quarter to quarter. Stock-based compensation amounted to $1.9 billion last quarter, up 30% year over year and increasing by 24% versus the second quarter of 2016. Even if stock-based compensation can't be ignored, investors may want to keep in mind how this remarkably singular item can distort operating profitability figures in a particular period. Even more important, profitability levels for Google and other bets are completely dissimilar, and the difference can have a remarkably significant impact. The other-bets division produced $197 million in revenue last quarter and generated an operating loss of $865 million, so the division is considerably dragging on overall company-level profitability. Management believes that investors should analyze the other-bets segment from a long-term perspective, as opposed to focusing too much on quarterly figures. Other bets are mostly early-stage projects, and they also represent an aggregation of businesses operating in different industries. In addition, performance in a particular quarter can be materially affected by one-time items, such as new partnership deals. Still, the point remains that the segment is taking a big toll on the company's margins. Image source: Alphabet. As for Google in isolation, the business produced $22.25 billion in revenue and $6.78 billion in operating income last quarter. GAAP operating margin was thus 30% of revenue during the period. Stock-based compensation amounted to $1.6 billion, so operating margin excluding stock-based compensation was an impressive 38%. Even when considering that companies in the industry tend to offer above-average profitability, Google's profit margins are substantially above those of the competition. As reference, Microsoft (NASDAQ:MSFT) reported an operating profit margin of 25% during the quarter ended in September, while Chinese search engine Baidu (NASDAQ:BIDU) produced an operating margin around 16% of sales in the third quarter of 2016. Alphabet is a combination of two segments with remarkably different characteristics. Google is an undisputed leader in online advertising generating tremendous profitability, while other bets is a portfolio of projects with intriguing long-term potential that produce considerable operating losses. Image source: Alphabet. Only time will tell what kind of profitability Alphabet can generate from other bets over the coming years. However, if management decides that those investments no longer make sense, it can easily cut back on other-bets spending without hurting Google at all. Doing so would allow Alphabet to increase overall margins to levels more in line with those of Google, generating a big boost to profitability. The only reason Alphabet's operating margins are declining is that the company is investing lots of money in other bets. Google is still a moneymaking machine, so investors in the company don't need to worry much about profitability. \n",
      "================================\n",
      "\n",
      "      \n",
      "    Is Google's Partnership With Intuit A Win-Win? -- The Motley Fool\n",
      "\n",
      "  \n",
      "\n",
      "Author: Leo Sun\n",
      "\n",
      "Founded in 1993 by brothers Tom and David Gardner, The Motley Fool helps millions of people attain financial freedom through our website, podcasts, books, newspaper column, radio show, and premium investing services. Alphabet's (NASDAQ:GOOG) (NASDAQ:GOOGL) Google recently announced a new partnership with finance software giant Intuit (NASDAQ:INTU) to link their cloud ecosystems together. Google will integrate its recently rebranded cloud business platform, G Suite, with the cloud-based version of Intuit's QuickBooks accounting software. QuickBooks Online. Image source: Google Play. The two platforms will be united with a single sign-on, and data will be freely shared between the apps. From now on, G Suite subscribers can schedule tasks and meetings through Google Calendar, and those appointments will be automatically displayed in Quickbooks. This eliminates the need for users to manually enter each appointment in Quickbooks again, which also makes it easier for businesses to invoice their time. With a single sign-on, employees won't need separate credentials to access Quickbooks -- they can simply use their Google login. Google has been trying to beef up its cloud-based enterprise tools to compete more effectively against Microsoft (NASDAQ:MSFT). That's why Google recently rebranded its Google Apps for Work portfolio (Gmail, Docs, Sheets, Slides, Google+, Calendar, Hangouts, and Forms) as G Suite. G Suite is now a core component of the new \"Google Cloud\", which includes the Google Cloud Platform, enterprise versions of Android and Chrome OS, and its APIs for machine learning and enterprise mapping services. That reorganization provides companies with a big bundle of cloud services which not only counters Office, but also targets Windows and Azure. Google claims that its Cloud Platform now has over a billion users, putting it in the same league as Android, Chrome, Gmail, Maps, Search, and YouTube. But despite Google's best efforts, many companies still gravitate toward Microsoft's services due to the familiarity of Office and Windows' support for legacy software. Back in February, research firm Gartner reported that just over 13% of publicly listed companies used Office 365 or Google Apps for email. Within that total, 8.5% used Office 365, while just 4.7% used Google Apps for Work. The remainder used on-premises, hybrid, hosted, or private cloud email solutions hosted by smaller vendors. Since QuickBooks is one of the world's top accounting software brands, its integration into G Suite could certainly make Google's subscription options more appealing. It also strikes at a weak link in Microsoft's ecosystem, since the Outlook Calendar and QuickBooks can't be seamlessly linked in a similar way yet. Intuit VP Vinay Pai called the deal \"the beginning of an exciting collaboration between Intuit and Google that will deliver huge benefits for the millions of small businesses that we serve around the world.\" Pai claims that 56% of QuickBooks customers are already using Google Calendar \"to book appointments, schedule meetings, and track client work.\" He also notes that partnering with Google \"will create important efficiencies between two solutions customers are already using.\" In the past, many companies created budget templates that Intuit customers could use in Google Docs. The tighter links between the two companies will likely encourage the creation of even more templates. Partnering with Google is another way to ensure that Intuit doesn't fall behind the technological curve. Back in 2013, it integrated its platform with Square's point of sale systems to automatically feed transaction data to its books. In late October, it introduced similar integrations with Apple Pay, PayPal, and automated payments company Bill.com. It also agreed to sell its older Quicken, Demandforce, and QuickBase businesses to focus more heavily on small businesses, cloud software, and tax preparation. Google and Intuit's partnership clearly helps both companies, but it probably won't help Google close the gap with Microsoft on its own, or ensure that Intuit stays ahead of its smaller rivals. But it's still a win-win deal which supports Google's renewed focus on the enterprise software market, as well as Intuit's ongoing efforts to evolve into a cloud-based company. \n",
      "================================\n"
     ]
    },
    {
     "name": "stdout",
     "output_type": "stream",
     "text": [
      "\n",
      "      \n",
      "    What to Expect When Alphabet, Inc. Reports Earnings -- The Motley Fool\n",
      "\n",
      "  \n",
      "\n",
      "Author: Steve Symington\n",
      "\n",
      "Founded in 1993 by brothers Tom and David Gardner, The Motley Fool helps millions of people attain financial freedom through our website, podcasts, books, newspaper column, radio show, and premium investing services. IMAGE SOURCE: ALPHABET, INC. Alphabet Inc. (NASDAQ:GOOG)(NASDAQ:GOOGL) is set to release third-quarter 2016 results this Thursday, Oct. 27, 2016, after the market close. With shares up 9% over the past three months (as of this writing) thanks largely to a stellar second-quarter report in July, what can investors expect to hear from the internet-search behemoth this time? This will mark Alphabet's fourth quarterly report since it began breaking out its results on a segment basis earlier this year. Alphabet instituted the practice after reorganizing last October to become the holding company of Google and its operating subsidiaries, and -- to borrow the company's words -- \"to bring increased focus, accountability, and transparency\" for investors who wish to know more about those varied businesses. Much to the chagrin of analysts, however, Alphabet doesn't make a habit of providing specific financial guidance each quarter. So while we don't typically pay close attention to Wall Street's near-term demands, note that consensus estimates predict Alphabet will grow revenue 18.1% year over year, to $22.05 billion, and generate earnings of $8.64 per share (up from $7.35 in last year's third quarter). Within that, we can expect Alphabet to divide its report into two primary segments, namely Google and \"Other Bets.\" If Alphabet were an apple right now, Google would be its core and most of the flesh. But this shouldn't be terribly surprising, considering Google encompasses results from nearly every well-known product Big G has innovated, from Search to Android, Maps, Chrome, YouTube, Google Play, and Gmail. As such, last quarter Google represented more than $21.3 billion of Alphabet's $21.5 billion in total revenue. And as operating margin for the segment expanded 100 basis points year over year, to 32.8%, Google generated operating income of just under $7 billion. Digging deeper into those totals, the vast majority of Google's revenue comes from advertising, which grew 19.5% year over year in Q2, to $19.1 billion. Alphabet should further break that down this quarter into both ad revenue that came from its own websites (up 24.2% last quarter, to $15.4 billion), and the amount derived from Google Network Members' sites (up 3.4% in Q2, to $3.74 billion). In recent quarters, Google has largely credited that growth to progress in monetizing mobile search, as well as rapid increases in revenue from YouTube. Relatedly, listen for metrics on the volume of aggregate paid clicks (up 29% year over year last quarter), and aggregate cost-per-click, the latter of which measures how much Google makes per ad. But keeping in mind cost-per-click declined 7% last quarter, don't be surprised if it continues that downward trend. In part, this is a consequence of that outsized growth from YouTube, where Google's TrueView ads reach consumers early in the purchase funnel, so tend to monetize at lower rates than traditional web-based impressions. We also can't forget about Google's non-advertising products, including Apps, Commerce, Cloud, and hardware products. Collectively, these sources saw sales increase last quarter by one-third year over year, to $2.3 billion. This quarter, I'm particularly interested to hear about consumers' early reactions to Google's new Pixel smartphone. With the exceptions of Nest, Verily, and Fiber, which together helped Other Bets revenue rise last quarter 150% year over year, to $185 million, Alphabet's other bets are primarily pre-revenue businesses that seek to solve novel problems across multiple industries. As a result, that revenue translated to a segment operating loss of $859 million last quarter alone. But we also shouldn't judge Other Bets' results by viewing each quarter in isolation. Because these efforts are early-stage, can be hugely affected by one-time items like new partnerships, and operate in disparate industries, Alphabet CFO Ruth Porat will almost certainly reiterate her assertion that it's most \"instructive\" to view Other Bets with at least a 12-month time frame in mind. That's fair enough; given their considerable potential to meaningfully change the way we do things -- and, of course, with the financial resources and cash flow provided by Alphabet's massively profitable Google segment -- Alphabet can afford to thoughtfully invest in these young businesses. In the end, barring any negative surprises from its usually stable core business, I suspect this week's report will contain little to fundamentally alter Alphabet's compelling growth story. But that won't stop us from digging in to better understand Alphabet's progress in continuing to generate long-term value for shareholders. \n",
      "================================\n",
      "\n",
      "      \n",
      "    3 Top Driverless Car Stocks to Buy Now -- The Motley Fool\n",
      "\n",
      "  \n",
      "\n",
      "Author: Chris Neiger\n",
      "\n",
      "Founded in 1993 by brothers Tom and David Gardner, The Motley Fool helps millions of people attain financial freedom through our website, podcasts, books, newspaper column, radio show, and premium investing services. Nearly 10% of all new light vehicles sold will have full self-driving capabilities by 2035, according to IHS Automotive. Automakers and technology companies are delivering incremental driverless car features right now that will eventually bring us full vehicle autonomy in the coming years. This means there are lots of companies out there making some level of autonomous vehicle technology, and there's no sign of this trend slowing down. Just last month, the U.S. government released federal guidelines for driverless cars, which are estimated to be a $42 billion market by 2025. Investors would be wise to jump on driverless car stocks now, as they begin shaping the self-driving vehicle industry. Image source: Getty Images. To help you get started, here are three companies that are making huge strides in driverless car tech: Alphabet (NASDAQ:GOOG) (NASDAQ:GOOGL), Tesla (NASDAQ:TSLA), and NVIDIA (NASDAQ:NVDA). Alphabet's Google has had clear ambitions in the driverless car space for quite a while, and the company is still one of the dominant leaders in creating autonomous car technology. Google crossed another milestone with its driverless car technology by racking up a total of 2 million miles of autonomous driving on roadways. The company took six years to reach 1 million miles, but added an additional 1 million miles just 16 months later, according to The Next Web. Google made huge move in the space this year when it announced that it will work with Fiat Chrysler to build driverless car prototypes. The partnership will combine Google's technology with 100 vehicles (based on the Pacifica minivan) made by Fiat specifically for Google. All of this marks the first time the tech giant is directly working with an automaker. Google has a clear advantage in the driverless car space that investors shouldn't overlook, even if it's still a bit unclear how the company will make money from its autonomous car technology. It could license the tech to automakers or use its massive amount of data and services to somehow serve ads based on car data (that's just speculation at this point, though). What's clear is that Google is committed to driverless cars (it's already spent more than $60 million, at a $30 million per year run rate), and it's showing no signs of backing away. With millions of autonomous miles driven, a new partnership with Fiat, and plenty of R&D spending, investors shouldn't bet against Google's advantage in the space. NVIDIA is building up its own arsenal of automotive technologies and using its experience with graphics processing units (GPUs) to give it a leg up in the space. NVIDIA's GPUs are already used by automakers to power infotainment systems for Honda, BMW, Tesla, and others, but now it's also using some of its processors to power complex artificial intelligence computers that give driverless cars situational awareness. The company's Drive PX 2 supercomputer is an on-board AI computer that processes images in real time for self-driving cars and is already used by 80 automakers and Tier 1 automotive suppliers. NVIDIA expanded its reach in the space recently when it released its new Xavier system-on-a-chip (SoC) which is a faster, smarter processor for the Drive PX computer. Xavier uses less energy than before and can essentially do the same work as two former Drive PX processors. NVIDIA only makes about 8% of its total revenue from its automotive business right now, but the segment is growing. The company improved sales in its automotive business by 68% in fiscal Q2 2017, year over year. If all of that weren't enough, the company is pioneering cloud-to-car technology with its DGX-1 supercomputer that could allow driverless cars to get the most relevant driving information updated from the cloud. The electric automaker isn't shy about its driverless car plans. CEO Elon Musk has said that Tesla's vehicles will be able to drive themselves across the country by 2018 (he's also admitted it might take a little longer than that), and the company -- of course -- already has its semi-autonomous feature, Autopilot, in its vehicles. Tesla has defended Autopilot and recently updated the software to better use the on-board radar to view obstacles and traffic and to see two cars ahead of the vehicle. The update also improved auto-steering and added more safety warnings for drivers. Autopilot requires drivers to remain alert, keep their hands on the wheel, and to take back control when necessary. Tesla's advantage in the space is that its system is far more advanced than others on the road, and it's readily available in the company's Model S and X vehicles. Even Tesla's upcoming $35,000 Model 3 will have Autopilot capabilities (though it'll add more to the cost). Other automakers may be busy creating their own semi-autonomous systems, but Tesla's version continues to be one of the most prolific. Investors shouldn't expect immediate gains from these companies simply on the basis of their driverless car technologies. Alphabet is a huge tech conglomerate, Tesla makes its money by selling cars, and NVIDIA's core business is selling GPUs for gaming. But these companies are making huge bets on self-driving technology now -- and investors looking to benefit later would be wise to act soon. \n",
      "================================\n"
     ]
    },
    {
     "name": "stdout",
     "output_type": "stream",
     "text": [
      "\n",
      "      \n",
      "    Alphabet Should Aggressively Repurchase Stock -- The Motley Fool\n",
      "\n",
      "  \n",
      "\n",
      "Author: Andrés Cardenal\n",
      "\n",
      "Founded in 1993 by brothers Tom and David Gardner, The Motley Fool helps millions of people attain financial freedom through our website, podcasts, books, newspaper column, radio show, and premium investing services. Image source: Alphabet. Alphabet (NASDAQ:GOOG) (NASDAQ:GOOGL) is one of the most powerful and influential tech corporations in the world, and the company is usually rumored to be interested in all kinds of acquisitions. However, as opposed to going shopping for other businesses, a new share buyback program could be a smarter use of the company's capital. Based on financial reports for the second quarter of 2016, Alphabet has approximately $78.46 billion in cash and equivalents plus marketable securities on its balance sheet. The business also generates plenty of cash on a recurrent basis; free cash flow during the second quarter of 2016 amounted to almost $7 billion, increasing by 32% versus $4.6 billion in the second quarter of 2015. Over the trailing-12-month period ended in June, Alphabet produced nearly 20 billion in free cash flow, and the long-term picture is quite impressive when it comes to the company's cash-generation capabilities over the years. GOOG Free Cash Flow (TTM) data by YCharts. It makes sense to keep some cash at hand in case the company needs to use it unexpectedly. However, Alphabet's cash hoard looks excessively big, especially when considering that the business is a cash-generating machine. Most of that money is invested in low-risk, fixed-income assets, and those kinds of investments are producing anemic returns in times of historically low interest rates. In October of 2015, Alphabet announced its first share buyback program in history -- for nearly $5.1 billion. The program is arguably too small considering the company's size and financial resources, and besides, it has already been completed as of June of 2016, so Alphabet doesn't have any more dry powder for share buybacks. Share buybacks can be a double-edged sword, depending on the particular case. They can be a smart strategy to allocate capital more efficiently, or a corporate gimmick to artificially inflate earnings per share by reducing the outstanding share count. When a company repurchases stock, it's basically investing in its own shares. Assuming the business has excess cash, the main factor to consider is whether the stock is a good investment or not at current market prices. In Alphabet's particular case, the company is the undisputed market leader in online advertising thanks to its tremendously popular Google search engine business and a wide ecosystem of services and applications. Names such as Android, Chrome, and YouTube make of Alphabet one of kind in the tech industry. No company is completely immune to competitive risk, and Alphabet is facing tough competition from Facebook (NASDAQ:FB) in online advertising. While it's only natural to expect Facebook to grow at a faster rate than Alphabet, albeit from a smaller revenue base, the industry should offer enough room for both Alphabet and Facebook to continue thriving over the coming years. Alphabet is producing a rock-solid financial performance: It brought in $21.5 billion in sales last quarter, an increase of 25% year over year in constant currency terms. It also retained 28% of sales as operating profit margin during the quarter, a profitability ratio most other companies in the market can only envy. Wall Street analysts are expecting Alphabet to make $40.48 in earnings per share during 2017, and under this assumption, the company would be trading at a forward price to earnings ratio in the neighborhood of 19.7. As a reference, competitor Facebook is trading at a forward price to earnings ratio of around 25.6, while the average company in the S&P 500 index carries a forward price to earnings ratio of 19.1. Alphabet is a market leader in a growing industry, and the business is performing remarkably well from a financial perspective, so valuation looks fairly reasonable. Alphabet stock is well positioned to continue delivering attractive returns for investors going forward since the company has far more cash than it needs to keep at hand, so management would be wise to announce a new and enlarged share buyback program. \n",
      "================================\n",
      "\n",
      "      \n",
      "    What's the Maximum Social Security Benefit in 2017? -- The Motley Fool\n",
      "\n",
      "  \n",
      "\n",
      "Author: Todd Campbell\n",
      "\n",
      "Founded in 1993 by brothers Tom and David Gardner, The Motley Fool helps millions of people attain financial freedom through our website, podcasts, books, newspaper column, radio show, and premium investing services. Inflation is ticking higher, and as a result, the Social Security Administration increased Social Security payments by 0.3% in 2017. The slight increase in Social Security income means that the maximum monthly Social Security benefit at full retirement age will be $2,687 per month in 2017; however, the chance that someone gets that amount depends entirely on their past earnings and when they claim their Social Security benefits. Here's how the government decides how much you'll receive in Social Security benefits -- and what you can do to boost your take. IMAGE SOURCE: GETTY IMAGES. It takes most Americans about 10 years of working to accumulate enough Social Security credits (40) to qualify for Social Security benefits. If you qualify for Social Security, then the Social Security Administration will calculate your monthly benefit by adjusting your income -- up to specific limits -- into current dollars. Your highest 35 years of adjusted income are then totaled and divided by 420 (the number of months in 35 years) to arrive at your average indexed monthly earnings (AIME). Your AIME is then adjusted by multipliers at specific earnings thresholds to determine your maximum monthly Social Security benefit at full retirement age, or FRA. For instance, if you become eligible for Social Security in 2017, then you'd multiply the first $885 in AIME by 90%. Any amount earned between $885 and $5,336 would be multiplied by 32%, and any amount above $5,336 would be multiplied by 15%. The resulting amounts are added together and rounded down to the nearest dime to determine your monthly FRA benefit. Although this calculation is complicated, you don't need to run the numbers yourself to find out how much you'll get in benefits. The Social Security Administration provides two ways for you to learn how much you're likely to receive in monthly benefits. You can either use their calculator to estimate your benefit or you can set up an account so that you can log in to view your projected benefit. Overall, Social Security is designed to replace roughly 40% of the average American worker's pre-retirement income; however, as the following chart shows, the amount Americans receive in benefits varies widely. Data: Social Security Administration. Author's chart. Obviously, the best way to get more Social Security in retirement is to earn more money. Workers pay a payroll tax that applies to income earned up to $127,200 in 2017 (up from $118,500 in 2016), so if you earn less than that, increasing earnings can net you a bigger Social Security check in the future. Also, if you've already worked 35 years, know that higher-income earning years will replace lower-income earning years in your benefit calculation, further boosting your benefit. You can also increase your Social Security income by taking advantage of delayed retirement credits. Delayed retirement credits increase your Social Security payment by a fixed percentage for every month you delay claiming beyond your full retirement age. In 2017, the full retirement age is 66 years and 2 months, so if you were born in 1955, and you wait until age 70 to claim your benefits, then your monthly check will be 130-2/3% of the amount you would've gotten at full retirement age. If you're scheduled to receive the maximum Social Security benefit this year, delayed retirement credits still apply. So, if, for instance, you decide to retire at 70 instead of 66 and 2 months, then you could receive a maximum monthly benefit of $3,538. Overall, deciding when to claim Social Security is a personal decision that depends on your health, savings, retirement goals, and family wishes, as well as other things. That being said, waiting to claim your benefits could be your best strategy for maximizing your Social Security benefit. \n",
      "================================\n"
     ]
    },
    {
     "name": "stdout",
     "output_type": "stream",
     "text": [
      "\n",
      "      \n",
      "    The Most Valuable Companies in the World -- The Motley Fool\n",
      "\n",
      "  \n",
      "\n",
      "Author: Andrés Cardenal\n",
      "\n",
      "Founded in 1993 by brothers Tom and David Gardner, The Motley Fool helps millions of people attain financial freedom through our website, podcasts, books, newspaper column, radio show, and premium investing services. In business and investing, size matters. When looking at the most valuable companies in the U.S. stock market as measured by market capitalization, the top five are technology names. Specifically, Apple (NASDAQ:AAPL), Alphabet (NASDAQ:GOOG) (NASDAQ:GOOGL), Microsoft (NASDAQ:MSFT), Amazon.com (NASDAQ:AMZN), and Facebook (NASDAQ:FB) are the most valuable listed companies in the world. The tech sector is fertile ground for innovative growth businesses, and companies with solid competitive strengths in a growing market can create tremendous value for investors in a relatively short time. That the five most valuable companies in the stock market are technology businesses says a lot about the kind of opportunities available to investors in top-quality companies operating in growing industries. Considering theyre young companies, these businesses have created enormous value for shareholders over a relatively short period. Image source: Getty Images. Alphabet's Google business was created in 1998, and it's now the second most valuable company in the world behind Apple, created in 1976. Even more impressive, Facebook is only 12 years old, having been founded in 2004. That Alphabet and Facebook are more valuable than old names such as Johnson & Johnson (NYSE:JNJ) and Coca-Cola (NYSE:KO) -- founded in 1886 and 1892 -- respectively, is downright amazing. Data sources: Yahoo! Finance, corporate websites. Market leaders in industries such as pharmaceuticals and soft drinks can be remarkably profitable investments, and names such as Johnson & Johnson and Coca-Cola have, in fact, delivered attractive returns for investors over the years. Nevertheless, the tech sector is one of a kind when it comes to opportunities for innovation and value creation. Alphabet and Facebook are the top dogs in online advertising, an industry benefiting from explosive growth. Similarly, Apple has revolutionized the mobile computing industry with products such as the iPhone, Microsoft is a world leader in productivity software and operating systems, while Amazon is the industry king of online retail. Demand in these areas has grown exponentially over the past several years, and that demand has been enormously beneficial for investors the five technology juggernauts. Innovation comes in all shapes and sizes, and many companies in traditional sectors of the economy can benefit customers and shareholders with smart innovations. Nevertheless, opportunities for growth are especially attractive for companies operating at the forefront of technological innovation, and the biggest companies in the world are positioned in the right industries. It all starts with successful innovation and growth opportunities, but it doesn't end there. Success attracts competition, and winning technologies tend to be replicated by other industry players over time. For this reason, the best tech companies need to have enough competitive strengths to keep the competition at bay and consistently translate innovative power into growing earnings and cash flows for investors. Apple is the most valuable brand in the world, and the company has a unique ecosystem of services and applications that generates unparalleled customer loyalty. When considering brand differentiation, customer experience, and cultural footprint, Apple is one of a kind. Alphabet's Google brand is so powerful that it's even considered a synonym for online search, as many consumers use the expression \"googling\" for information, as opposed to just \"online searching.\" The company owns seven services and applications with over 1 billion users each: Google Search, Android, YouTube, Gmail, Maps, Chrome, and Google Play. No company comes close to Alphabet in terms of scale and popularity in the online world. Image source: Getty Images. Microsoft is facing considerable challenges because of emerging technology trends in the computing industry, such as the rise of mobile computing, but the company is one of the most trusted and respected brands among its core clientele, especially in the corporate sector. Relying on Microsoft's software and services is a safe bet, and corporate customers are notoriously risk-averse when making purchase decisions in this area. Amazon has built tremendous scale over the years, allowing the company to obtain conveniently low prices from suppliers and spread fixed costs across a massive amount of items. Cost competitiveness is a key success factor in discount retail, and Amazon knows how to leverage its strengths to delight its customers with aggressively low prices. Size is of the utmost importance in the social-media industry, since users attract each other to the most relevant platforms. As of the end the second quarter of 2016, Facebook had 1.71 billion monthly active users, growing by 15% year over year. If everyone else is on Facebook, then you need to be on the platform, too, and this dynamic creates a self-sustaining growth cycle for the company. Apple, Alphabet, Microsoft, Amazon, and Facebook are different businesses with their own weaknesses and strengths. However, the five tech giants operate in attractive markets, and their profits are protected by rock-solid competitive strengths. This is arguably the main reason they're the most valuable companies in the U.S. stock market. \n",
      "================================\n",
      "\n",
      "      \n",
      "    What Is the Maximum IRA Contribution Limit for 2017? -- The Motley Fool\n",
      "\n",
      "  \n",
      "\n",
      "Author: Michael Douglass\n",
      "\n",
      "Founded in 1993 by brothers Tom and David Gardner, The Motley Fool helps millions of people attain financial freedom through our website, podcasts, books, newspaper column, radio show, and premium investing services. I won't keep you in suspense: The 2017 maximum IRA contribution limit is $5,500 (or $6,500 if you're 50 years old or older). Keep in mind that Roth IRAs have different limits based on your income (which can affect your eligibility for a Roth IRA). There are a few other IRA contribution rules that affect whether you can take a tax deduction for your traditional IRA contribution. Image source: Getty Images. Roth IRAs do not offer an upfront tax break -- but once you've contributed money, it grows tax-free and can be withdrawn in retirement tax-free as well. Money in a Roth IRA can be withdrawn before 59 1/2 without the 10% penalty that applies to traditional IRAs, although taxes often apply. Roth IRAs are also not subject to RMDs, so you can leave that money in as long as you want. For Roth IRAs, there are income limits beyond which you can't even contribute. They've increased modestly for 2017, and they depend on your tax filing status. All income numbers here and below are adjusted gross income. Data source: IRS.gov.. As I noted above, one of the key benefits of a traditional IRA is that it can give you an upfront tax break. If you and your spouse -- or just you, if you aren't married -- don't have access to a workplace retirement plan (usually a 401(k) or a 403(b)), then the IRA tax deduction applies at all income levels. Otherwise: Some people like saving lump sums of money all at once. Personally, I prefer spreading it out across the year with automatic pay deferrals -- a small chunk taken out of each paycheck. This has two benefits: 1) It's a small amount, which makes it easier to stomach from a budgetary standpoint, and 2) It's automatic, which means it requires no effort after the first set-it-and-forget-it decision. There are some serious benefits to this kind of automated saving. Use this simple chart to figure out how much you should defer from each paycheck, assuming you start at the beginning of 2017. Data source: Author's calculations. If you're ready to open an IRA now, head on over to our IRA center to see some special \"get started\" offers. The beauty of an IRA is that whether you do traditional or Roth, you still end up getting a tax break of one form or another -- just to save for your retirement! And while an IRA shouldn't be your only savings vehicle, you can still build up a sizable nest egg in it: If you save $5,500 per year for 30 years and get an 8% return in the stock market (which is reasonable based on historical market returns), you'll have $623,053.13 in savings. What's even cooler: Only $165,000 of that would be money you contributed -- the rest would all be compounded returns. So get started now, and get that money working for you! \n",
      "================================\n"
     ]
    },
    {
     "name": "stdout",
     "output_type": "stream",
     "text": [
      "\n",
      "      \n",
      "    It's Official: Your Social Security Benefit Is Increasing in 2017 -- The Motley Fool\n",
      "\n",
      "  \n",
      "\n",
      "Author: Matthew Frankel, CFP\n",
      "\n",
      "Founded in 1993 by brothers Tom and David Gardner, The Motley Fool helps millions of people attain financial freedom through our website, podcasts, books, newspaper column, radio show, and premium investing services. The Social Security Administration (SSA) recently announced that the inflation index it uses to determine cost-of-living adjustments (COLA) has increased over the past year. As a result, Social Security and SSI benefits will both automatically increase by 0.3% in 2017. Here's how the COLA is determined each year, and what it could mean to you in 2017. The short answer is that Social Security cost-of-living adjustments are determined by inflation. If prices increase in a certain year, Social Security benefits (including SSI) are adjusted upward to maintain beneficiaries' purchasing power at a constant level. Image source: Getty Images. The more complex answer is that Social Security COLA depends on the Consumer Price Index for Urban Wage Earners and Clerical Workers (CPI-W, for short). This index is designed to track retail prices as they affect workers, and includes the prices of expenses such as food, clothing, transportation, housing, and medical care. Annual increases are determined by the change in the CPI-W during the one-year period between the third quarters of the two calendar years preceding the year in which the COLA will take effect. For example, the 2017 COLA was based on inflation data for the year ending in the third quarter of 2016. Finally, it's important to note that even if the CPI-W decreases, Social Security cannot have a negative COLA. During deflationary periods, Social Security benefits simply remain the same. According to the SSA, the average retired worker receives a monthly Social Security benefit of $1,355. Therefore, the 0.3% cost-of-living adjustment translates to about a $4 monthly benefit increase for the average retiree, or about $48 per year. In a nutshell, this isn't a dramatic increase in benefits. In fact, this is the smallest percentage increase in a non-zero COLA year since the system was implemented in 1975. The average Supplemental Security Income (SSI) recipient receives $540 per month, so the average SSI check will increase by a little more than $1.60. This change will take affect beginning with the December 2016 payment for SSI recipients and in January 2017 for Social Security beneficiaries. In addition to the COLA, the Social Security Administration announced a few other changes to Social Security for 2017 for both workers and beneficiaries. While the 2017 cost-of-living adjustment is indeed a small amount, it is a positive sign for the U.S. economy. Specifically, there was no COLA for beneficiaries last year because there was no inflation whatsoever. So, this is certainly a step in the right direction, as well as a few extra dollars in retirees' pockets. \n",
      "================================\n",
      "\n",
      "      \n",
      "    The 3 Best Lithium Stocks to Buy -- The Motley Fool\n",
      "\n",
      "  \n",
      "\n",
      "Author: Beth McKenna\n",
      "\n",
      "Founded in 1993 by brothers Tom and David Gardner, The Motley Fool helps millions of people attain financial freedom through our website, podcasts, books, newspaper column, radio show, and premium investing services. Lithium stocks, particularly lithium mining stocks, have soared along with the price of the metal since early 2016 due to rising demand for rechargeable lithium-ion batteries. While these batteries are used in many popular electronic devices, it's the growing popularity of electric vehicles (EVs) that has greatly revved up demand. Tesla's increasing production of its more affordable Model 3, which it began manufacturing in small quantities in mid-2017, should further put the pedal to the metal for lithium demand. So, which are the best lithium mining stocks? 26.0 34.6 Data source: YCharts. Data as of Jan. 12, 2018. The three largest players -- Albemarle Corporation, Sociedad Quimica y Minera de Chile (SQM), and FMC Corp. -- are the best way for most investors to invest in the lithium market. There are a good number of smaller lithium miners that are more speculative and unprofitable, and countless tiny and extremely speculative ones, many of which haven't yet even generated any revenue. Lithium salt flats. Lithium-containing brine is pumped aboveground into evaporation pools. Image source: Getty Images. Albemarle is a specialty chemical company with leading positions in lithium, bromine, and refining catalysts. The Charlotte, North Carolina-based company became the world's largest supplier of lithium when it acquired Rockwood Holdings in January 2015. Albemarle is largely considered the world's largest lithium miner, with SQM not far behind in market share, and FMC coming in fourth or fifth, behind China's Tianqi Lithium and perhaps one other Chinese player. Albemarle's lithium product sales jumped 58.3% to $729.3 million in the first nine months of 2017, accounting for 32.9% of its total sales of $2.21 billion. Its lithium business EBITDA (earnings before interest, taxes, depreciation, and amortization) for this period surged 66.8% to $328 million, or 51.3% of the total EBITDA for its operating units. Albemarle obtains its lithium from three independent primary sources: Salar de Atacama, Chile; Silver Peak, Nevada; and its 49% share in Talison Lithium (Tianqi Lithium owns the 51% stake). At the Chile and Nevada locations, lithium is extracted from brine, while the Talison operation in Western Australia involves open-pit mining of ore containing the lithium-bearing mineral spodumene. Mined lithium is then refined into various lithium products for sale. Driven by rising lithium demand, Albemarle has been expanding production capacity. In early 2017, it announced that it had received approval from the Chilean authorities to extract enough lithium to increase its annual Chilean battery-grade lithium carbonate production from 70,000 metric tons (MT) to 90,000 MT over the next four years. And in March 2017, it announced an expansion at its joint venture in Australia, slated to begin in Q2 of 2019, which will more than double lithium carbonate equivalent production capacity to more than 160,000 MT per year. In September 2016, Albemarle announced that it had entered into an agreement with Bolland Minera S.A. for the exclusive exploration and acquisition rights to a lithium resource in Antofalla, within the Catamarca Province of Argentina. The company said that it believes that this lithium resource will be certified as the largest lithium resource in Argentina. Analysts expect Albemarle's earnings per share (EPS) to increase at an average annual rate of 15% over the next five years. The company has delivered positive trailing-12-month free cash flow (FCF) for every period going back to 1998 -- a better record than SQM and FMC. Lithium-ion batteries. Image source: Getty Images. Sociedad Quimica y Minera de Chile, also known as SQM, has five business lines: specialty plant nutrition, iodine and derivatives, lithium and derivatives, industrial chemicals, and potassium. Revenue from SQM's lithium and derivatives business increased 37.7% to $465.2 million during the first nine months of 2017. This business accounted for 29.4% of the company's total revenue of $1.58 billion during this period and an outsize 61% of its consolidated gross profit. (SQM doesn't provide the data to calculate the year-over-year change in profitability for its segments.) As with Albemarle, lithium revenue growth was due to an increase in sales volume combined with a strong rise in price. Like Albemarle, SQM extracts lithium chloride (and other minerals) from underground brine at the Atacama Salt Desert in Chile. The company is expanding production capacity of lithium carbonate and lithium hydroxide in Chile and has a new brine project under way in Argentina. It also expects to soon move forward with a recently announced hard-rock lithium mining joint venture with Kidman Resources in Australia. However, the Chilean company has been mired in scandals in recent years. In 2015, SQM was embroiled in a political campaign finance scandal, which revealed that in the process it had allegedly evaded income taxes on a portion of income. This led to three board members representing Canada's Potash Corp., which owns a 32% stake in SQM, resigning in protest, and to SQM firing its CEO. (Potash Corp. is now known as Nutrien, following its merger last month with Agrium.) In 2014, SQM Chairman Julio Ponce, a former son-in-law of late dictator Augusto Pinochet, who essentially controls SQM through a series of holding companies, was fined for insider trading. He was forced to resign in 2015. Analysts expect SQM's year-over-year EPS to grow at a torrid pace of 32.5% over the next five years. This is the highest projected growth rate of the three big lithium players covered in this article, but the company's scandalous recent past means investors should tread carefully. Lithium salt flats. Image source: Getty Images. FMC Corp. formerly operated in three segments -- agricultural solutions, health and nutrition, and lithium -- but is down to two business units after selling its health and nutrition business to DuPont in 2017. (FMC acquired agricultural assets from DuPont in the transaction.) Compared to Albemarle and SQM, FMC's lithium business accounts for a considerably smaller portion of its total revenue and profit. The Philadelphia-based company's lithium business revenue increased 20.9% to $234 million in the first nine months of 2017, accounting for 12.3% of its total sales of $1.90 billion. Its lithium business operating profit for this period soared 68.9% to $82.6 million, or 21.8% of total segment operating profit of $379.7 million. The company attributes its outsize profit growth to its strategy of converting lithium carbonate into higher-value downstream specialty products. FMC touts that it's the most vertically integrated company in the lithium industry. It owns its brine lithium source, the Salar del Hombre Muerto in Argentina, and processing and production facilities, where the lithium carbonate that is produced from lithium chloride is further refined into such products as lithium metals and lithium hydroxide, bromide, and hypochloride. The company also claims its proprietary brine extraction technique yields the highest-purity lithium in the industry. Analysts expect FMC's EPS will grow at an average annual rate of 17.2% over the next five years. Lithium stock prices have risen significantly since early 2016, as investors (and speculators) have rushed in in a gold-rush-like frenzy. So the group may be in for further pullbacks, though the long-term outlook cointinues to look bright for select higher-quality players. \n"
     ]
    }
   ],
   "source": [
    "sitecount = 1\n",
    "for site in websites:\n",
    "    print(\"================================\")\n",
    "    \n",
    "    sitetext = ''\n",
    "    r = requests.get(site)\n",
    "    websoup = BeautifulSoup(r.text)\n",
    "    author_box = websoup.find('div',attrs={'class': re.compile(\"author-name\")})\n",
    "    print(\"{}\".format(websoup.title.string))\n",
    "    print()\n",
    "    if (author_box):\n",
    "        for e in author_box:\n",
    "            if (e):\n",
    "                print(\"Author: {}\".format(e.strip()))\n",
    "                print()\n",
    "            else:\n",
    "                print(\"Author: {}\".format(\"None\"))\n",
    "                print() \n",
    "    else:\n",
    "        print(\"Author: {}\".format(\"None\"))\n",
    "        print()\n",
    "    extractedweb = websoup.findAll('p')\n",
    "    \n",
    "    for p in extractedweb:\n",
    "        if(p.find(text=True)):\n",
    "            if p.em:\n",
    "                continue\n",
    "            elif (p.attrs=={'class':['primary_author-bio']}):\n",
    "                continue\n",
    "            else:\n",
    "                sitetext += p.text.strip() + \" \"\n",
    "    print(sitetext)"
   ]
  },
  {
   "cell_type": "code",
   "execution_count": null,
   "metadata": {},
   "outputs": [],
   "source": []
  }
 ],
 "metadata": {
  "kernelspec": {
   "display_name": "Python 3",
   "language": "python",
   "name": "python3"
  },
  "language_info": {
   "codemirror_mode": {
    "name": "ipython",
    "version": 3
   },
   "file_extension": ".py",
   "mimetype": "text/x-python",
   "name": "python",
   "nbconvert_exporter": "python",
   "pygments_lexer": "ipython3",
   "version": "3.6.6"
  }
 },
 "nbformat": 4,
 "nbformat_minor": 2
}
