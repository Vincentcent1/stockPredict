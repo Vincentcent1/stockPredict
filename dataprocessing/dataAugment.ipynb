{
 "cells": [
  {
   "cell_type": "code",
   "execution_count": 15,
   "metadata": {},
   "outputs": [],
   "source": [
    "import glob\n",
    "import pandas as pd\n",
    "import datetime\n",
    "import IPython.display as display"
   ]
  },
  {
   "cell_type": "code",
   "execution_count": 16,
   "metadata": {},
   "outputs": [],
   "source": [
    "dfs = []\n",
    "filenames = []\n",
    "for filename in glob.glob('../selectedData/*'):\n",
    "    print\n",
    "    df = pd.read_csv(filename)\n",
    "    df.name = filename.split('/')[-1].split('.')[0]\n",
    "    df['Date'] =  pd.to_datetime(df['Date'])\n",
    "    df.sort_index(axis=1, ascending=False)\n",
    "    dfs.append(df)\n",
    "    filenames.append(df.name)"
   ]
  },
  {
   "cell_type": "code",
   "execution_count": 5,
   "metadata": {},
   "outputs": [],
   "source": [
    "for i in range(len(dfs)):\n",
    "    df = dfs[i]\n",
    "    dfs[i] = df[(df['Date']>='2016-11-07') & (df['Date']<='2017-11-10')].reset_index(drop=True)\n",
    "    dfs[i].name = df.name"
   ]
  },
  {
   "cell_type": "code",
   "execution_count": 6,
   "metadata": {},
   "outputs": [
    {
     "name": "stdout",
     "output_type": "stream",
     "text": [
      "Date checked successfully\n"
     ]
    }
   ],
   "source": [
    "checkDate = []\n",
    "for df in dfs:\n",
    "    checkDate.append(df[(df['Date']>='2016-11-07') & (df['Date']<='2017-11-10')]['Date'].tolist() == dfs[0][(dfs[0]['Date']>='2016-11-07') & (dfs[0]['Date']<='2017-11-10')]['Date'].tolist())\n",
    "dateChecked = True\n",
    "for i in checkDate:\n",
    "    if(not i):\n",
    "        dateChecked = False\n",
    "        print(\"Date does not match for some.\")\n",
    "        break\n",
    "if dateChecked:\n",
    "    print(\"Date checked successfully\")\n"
   ]
  },
  {
   "cell_type": "code",
   "execution_count": 11,
   "metadata": {},
   "outputs": [],
   "source": [
    "def preprocess(df):\n",
    "    '''\n",
    "    Values are calculated w.r.t to the previous week. \n",
    "    Delta for week 0 is calculated as open price for start of week 0 - week -1\n",
    "    High for week 0: Highest price from start of week -1 to start of week 1\n",
    "    Low for week 0: Lowest price from start of week -1 to start of week 0 \n",
    "    '''\n",
    "    currentDate = datetime.datetime(2016,11,17)\n",
    "    endDate = datetime.datetime(2017,11,10)\n",
    "    df_ = pd.DataFrame(columns=['Date','Open','Delta','FractionalIncrease','High','Low','Positive'])\n",
    "    while currentDate <= endDate:\n",
    "        i = []\n",
    "        tempDate = currentDate\n",
    "        while(len(i) == 0):\n",
    "            i = df.index[df.Date == tempDate].values\n",
    "            tempDate += datetime.timedelta(days=1)\n",
    "        i = i[0]\n",
    "        \n",
    "        prevI = []\n",
    "        tempDate = currentDate - datetime.timedelta(days=7)\n",
    "        while(len(prevI) == 0):\n",
    "            prevI = df.index[df.Date == tempDate].values\n",
    "            tempDate += datetime.timedelta(days=1)\n",
    "        prevI = prevI[0]\n",
    "        \n",
    "        date = df.iloc[i]['Date']\n",
    "        open_ = df.iloc[i]['Open']\n",
    "        delta = df.iloc[i]['Open'] - df.iloc[prevI]['Open']\n",
    "        fractionalIncrease = delta/df.iloc[prevI]['Open']\n",
    "        high = max(df.iloc[prevI:i]['High'])\n",
    "        low = min(df.iloc[prevI:i]['Low'])\n",
    "        positive = delta >= 0\n",
    "        df_.loc[len(df_)] = [date,open_,delta,fractionalIncrease,high,low,positive]\n",
    "        currentDate += datetime.timedelta(days=7)\n",
    "    return df_\n",
    "        \n"
   ]
  },
  {
   "cell_type": "code",
   "execution_count": 14,
   "metadata": {},
   "outputs": [
    {
     "data": {
      "text/plain": [
       "[]"
      ]
     },
     "execution_count": 14,
     "metadata": {},
     "output_type": "execute_result"
    }
   ],
   "source": [
    "dfs"
   ]
  },
  {
   "cell_type": "code",
   "execution_count": 12,
   "metadata": {},
   "outputs": [],
   "source": [
    "i = 0\n",
    "for df in dfs:\n",
    "    output = preprocess(df)\n",
    "    output.to_csv(\"processedSelected/{}.csv\".format(filenames[i]), index=False)\n",
    "    i += 1"
   ]
  },
  {
   "cell_type": "code",
   "execution_count": null,
   "metadata": {},
   "outputs": [],
   "source": []
  },
  {
   "cell_type": "code",
   "execution_count": 9,
   "metadata": {},
   "outputs": [
    {
     "name": "stdout",
     "output_type": "stream",
     "text": [
      "bowSentiment.ipynb  dataAugment.ipynb  GoogleScrap.ipynb  Sentiment.ipynb\r\n"
     ]
    }
   ],
   "source": [
    "!ls"
   ]
  },
  {
   "cell_type": "code",
   "execution_count": 10,
   "metadata": {},
   "outputs": [
    {
     "name": "stdout",
     "output_type": "stream",
     "text": [
      "/home/vincent/cds/project/stockPredict/dataprocessing\r\n"
     ]
    }
   ],
   "source": [
    "!pwd"
   ]
  },
  {
   "cell_type": "code",
   "execution_count": null,
   "metadata": {},
   "outputs": [],
   "source": []
  }
 ],
 "metadata": {
  "kernelspec": {
   "display_name": "Python 3",
   "language": "python",
   "name": "python3"
  },
  "language_info": {
   "codemirror_mode": {
    "name": "ipython",
    "version": 3
   },
   "file_extension": ".py",
   "mimetype": "text/x-python",
   "name": "python",
   "nbconvert_exporter": "python",
   "pygments_lexer": "ipython3",
   "version": "3.6.6"
  }
 },
 "nbformat": 4,
 "nbformat_minor": 2
}
